{
 "cells": [
  {
   "cell_type": "code",
   "execution_count": 1,
   "metadata": {},
   "outputs": [
    {
     "name": "stdout",
     "output_type": "stream",
     "text": [
      "Les id_batiment pour l'étape 1 sont : ['E000001', 'E000002', 'E000004', 'E000005', 'E000006', 'E000007', 'E000008', 'E000009', 'E000010', 'E000011', 'E000012', 'E000013', 'E000014', 'E000015', 'E000016', 'E000017', 'E000018', 'E000019', 'E000020', 'E000021', 'E000022', 'E000023', 'E000024', 'E000025', 'E000026', 'E000027', 'E000028', 'E000029', 'E000030', 'E000031', 'E000032', 'E000033', 'E000034', 'E000035', 'E000036', 'E000037', 'E000038', 'E000039', 'E000040', 'E000041', 'E000042', 'E000043', 'E000044', 'E000045', 'E000046', 'E000047', 'E000048', 'E000049', 'E000050', 'E000051', 'E000052', 'E000053', 'E000054', 'E000055', 'E000056', 'E000057', 'E000058', 'E000059', 'E000060', 'E000061', 'E000062', 'E000063', 'E000064', 'E000065', 'E000066', 'E000068', 'E000069', 'E000070', 'E000071', 'E000072', 'E000073', 'E000074', 'E000075', 'E000076', 'E000077', 'E000078', 'E000079', 'E000080', 'E000081', 'E000082', 'E000083', 'E000084', 'E000086', 'E000087', 'E000088', 'E000089', 'E000090', 'E000091', 'E000092', 'E000093', 'E000094', 'E000095', 'E000096', 'E000097', 'E000099', 'E000100', 'E000101', 'E000102', 'E000103', 'E000104', 'E000105', 'E000113', 'E000114', 'E000115', 'E000116', 'E000117', 'E000118', 'E000119', 'E000120', 'E000121', 'E000122', 'E000123', 'E000124', 'E000125', 'E000126', 'E000130', 'E000131', 'E000132', 'E000133', 'E000134', 'E000135', 'E000136', 'E000137', 'E000138', 'E000139', 'E000140', 'E000141', 'E000142', 'E000143', 'E000147', 'E000148', 'E000149', 'E000150', 'E000151', 'E000152', 'E000153', 'E000154', 'E000155', 'E000156', 'E000157', 'E000158', 'E000159', 'E000162', 'E000163', 'E000164', 'E000165', 'E000166', 'E000167', 'E000168', 'E000169', 'E000170', 'E000171', 'E000172', 'E000173', 'E000179', 'E000180', 'E000181', 'E000182', 'E000186', 'E000187', 'E000189', 'E000190', 'E000191', 'E000192', 'E000199', 'E000200', 'E000201', 'E000202', 'E000203', 'E000204', 'E000205', 'E000206', 'E000207', 'E000208', 'E000209', 'E000210', 'E000211', 'E000212', 'E000213', 'E000214', 'E000215', 'E000216', 'E000217', 'E000218', 'E000219', 'E000220', 'E000221', 'E000223', 'E000224', 'E000230', 'E000231', 'E000232', 'E000233', 'E000234', 'E000235', 'E000236', 'E000237', 'E000238', 'E000239', 'E000240', 'E000241', 'E000242', 'E000243', 'E000244', 'E000245', 'E000246', 'E000247', 'E000248', 'E000249', 'E000250', 'E000251', 'E000253', 'E000254', 'E000255', 'E000256', 'E000261', 'E000262', 'E000263', 'E000264', 'E000265', 'E000269', 'E000270', 'E000271', 'E000272', 'E000273', 'E000276', 'E000277', 'E000278', 'E000279', 'E000280', 'E000281', 'E000282', 'E000283', 'E000284', 'E000285', 'E000286', 'E000287', 'E000288', 'E000289', 'E000290', 'E000291', 'E000292', 'E000294', 'E000295', 'E000296', 'E000297', 'E000298', 'E000299', 'E000300', 'E000304', 'E000305', 'E000306', 'E000307', 'E000308', 'E000309', 'E000310', 'E000311', 'E000312', 'E000313', 'E000314', 'E000318', 'E000319', 'E000320', 'E000321', 'E000323', 'E000324', 'E000328', 'E000329', 'E000330', 'E000331', 'E000332', 'E000333', 'E000334', 'E000335', 'E000336', 'E000337', 'E000338', 'E000339', 'E000340', 'E000341', 'E000342', 'E000343', 'E000344', 'E000345', 'E000347', 'E000348', 'E000349', 'E000350', 'E000351', 'E000352', 'E000353', 'E000354', 'E000355', 'E000356', 'E000357', 'E000362']\n"
     ]
    }
   ],
   "source": [
    "import pandas as pd\n",
    "import numpy as np\n",
    "\n",
    "# Charger les données\n",
    "donnees = pd.read_csv(\"reseau_en_arbre.csv\")\n",
    "\n",
    "# Initialiser la liste des bâtiments pour l'étape une\n",
    "batiment_etape_une = []\n",
    "batiment_etape_deux = []\n",
    "\n",
    "# Obtenez la liste des id_batiment uniques\n",
    "id_batiments_uniques = donnees['id_batiment'].unique()\n",
    "\n",
    "# Parcourir chaque id_batiment unique\n",
    "for id_batiment in id_batiments_uniques:\n",
    "    # Filtrer les données pour l'id_batiment actuel\n",
    "    donnees_batiment = donnees[donnees['id_batiment'] == id_batiment]\n",
    "    \n",
    "    # Vérifier si toutes les valeurs dans la colonne 'infra_type' sont égales à 'fourreau_existant'\n",
    "    if all(donnees_batiment['infra_type'] == 'fourreau_existant'):\n",
    "        # Ajouter l'id_batiment à la liste pour l'étape une\n",
    "        batiment_etape_une.append(id_batiment)\n",
    "    else:\n",
    "        batiment_etape_deux.append(id_batiment)\n",
    "\n",
    "# Afficher les résultats pour l'étape une\n",
    "print(\"Les id_batiment pour l'étape 1 sont :\", batiment_etape_une)\n",
    "#print(\"Les id_batiment pour lesquels au moins une valeur dans 'infra_type' est différente de 'fourreau_existant' sont :\", batiment_etape_deux)\n"
   ]
  },
  {
   "cell_type": "code",
   "execution_count": 2,
   "metadata": {},
   "outputs": [
    {
     "name": "stdout",
     "output_type": "stream",
     "text": [
      "Les id_batiment pour l'étape 2 sont : \n",
      "['E000112', 'E000098', 'E000274', 'E000222', 'E000188', 'E000127', 'E000145', 'E000144', 'E000364', 'E000365', 'E000111', 'E000185', 'E000267', 'E000268', 'E000067', 'E000252', 'E000301', 'E000315', 'E000316', 'E000128', 'E000373', 'E000376', 'E000374', 'E000377', 'E000380', 'E000378', 'E000381', 'E000266', 'E000293', 'E000085', 'E000106', 'E000107', 'E000183', 'E000322', 'E000346', 'E000359', 'E000366', 'E000108', 'E000109', 'E000110', 'E000325', 'E000326', 'E000184', 'E000129', 'E000360', 'E000367', 'E000368', 'E000361', 'E000369', 'E000372', 'E000375', 'E000379', 'E000003', 'E000146', 'E000194', 'E000195', 'E000196', 'E000225', 'E000258', 'E000259', 'E000302', 'E000257', 'E000178', 'E000197', 'E000226', 'E000227', 'E000228', 'E000229', 'E000198', 'E000260', 'E000275', 'E000317', 'E000327', 'E000358', 'E000363', 'E000370', 'E000303', 'E000371', 'E000160', 'E000161', 'E000176', 'E000177', 'E000174', 'E000175', 'E000193']\n"
     ]
    }
   ],
   "source": [
    "# Calcul de l'indice de difficulté (moyenne longueur par maison)\n",
    "# Définir la fonction calculer_moyenne_longueur_par_maison\n",
    "def calculer_moyenne_longueur_par_maison(data, batiment_etape_deux):\n",
    "    # Convertir les données en un tableau NumPy\n",
    "    data_array = np.array(data)\n",
    "\n",
    "    # Initialiser un dictionnaire pour stocker les moyennes\n",
    "    moyennes = {}\n",
    "\n",
    "    # Parcourir les id_batiments uniques\n",
    "    for id_batiment in batiment_etape_deux:\n",
    "        # Sélectionner les lignes correspondant à l'id_batiment en cours\n",
    "        lignes_id_batiment = data_array[data_array[:, 0] == id_batiment]\n",
    "        \n",
    "        # Récuperer le nombre de prises\n",
    "        nb_prises = lignes_id_batiment[0, 1]\n",
    "        \n",
    "        # Rendre nulles les longueurs associées à infra_type \"fourreau_existant\"\n",
    "        lignes_id_batiment[lignes_id_batiment[:, 3] == 'fourreau_existant', 4] = 0\n",
    "        \n",
    "        # Calculer la moyenne des longueurs par batiment\n",
    "        moyenne = np.sum(lignes_id_batiment[:, 4]) / nb_prises\n",
    "            \n",
    "        # Stocker la moyenne dans le dictionnaire\n",
    "        moyennes[id_batiment] = moyenne\n",
    "\n",
    "    return moyennes\n",
    "\n",
    "# Initialiser la nouvelle liste ordonnée des batiments\n",
    "liste_ordonnee_bat_etape_deux = []\n",
    "infra_ids_mises_a_zero = set()\n",
    "\n",
    "while batiment_etape_deux:  # Tant que la liste batiment_etape_deux n'est pas vide\n",
    "    # Appeler la fonction de calcul des moyennes\n",
    "    moyennes = calculer_moyenne_longueur_par_maison(donnees, batiment_etape_deux)\n",
    "\n",
    "    # Trouver l'id_batiment avec la plus petite moyenne\n",
    "    id_batiment_min_moyenne = min(moyennes, key=moyennes.get)\n",
    "    \n",
    "    # Récupérer la liste des infra_id associés à cet id_batiment\n",
    "    infra_ids_min_moyenne = donnees.loc[donnees['id_batiment'] == id_batiment_min_moyenne, 'infra_id'].unique()\n",
    "\n",
    "    # Récupérer les infra_ids qui ne sont pas déjà à zéro\n",
    "    infra_ids_a_zero = set(infra_ids_min_moyenne) - infra_ids_mises_a_zero\n",
    "\n",
    "    # Rendre nulles les longueurs associées à tous les infra_id de l'id_batiment avec la plus petite moyenne (fourreau_existant)\n",
    "    donnees.loc[(donnees['id_batiment'] == id_batiment_min_moyenne) & (donnees['infra_type'] == 'fourreau_existant'), 'longueur'] = 0\n",
    "\n",
    "    # Rendre nulles les longueurs associées à tous les infra_id de l'id_batiment avec la plus petite moyenne (fourreau_non_existant)\n",
    "    donnees.loc[(donnees['id_batiment'] == id_batiment_min_moyenne) & (donnees['infra_type'] == 'fourreau_non_existant'), 'longueur'] = 0\n",
    "\n",
    "    # Rendre nulles les longueurs associées à tous les infra_id de tous les batiments ayant le même infra_id que l'id_batiment avec la plus petite moyenne\n",
    "    donnees.loc[(donnees['infra_id'].isin(infra_ids_min_moyenne)) & (donnees['infra_type'].isin(['fourreau_existant', 'fourreau_non_existant'])), 'longueur'] = 0\n",
    "\n",
    "    # Mettre à jour les infra_ids qui ont été mis à zéro\n",
    "    infra_ids_mises_a_zero.update(infra_ids_a_zero)\n",
    "    \n",
    "    # Supprimer l'id_batiment de la liste initiale\n",
    "    batiment_etape_deux.remove(id_batiment_min_moyenne)\n",
    "    \n",
    "    # Ajouter l'id_batiment à la liste ordonnée\n",
    "    liste_ordonnee_bat_etape_deux.append(id_batiment_min_moyenne)\n",
    "\n",
    "    #  # Afficher les infra_ids associés à l'id_batiment avec la plus petite moyenne\n",
    "    # print(f\"Infra_ids associés à l'id_batiment avec la plus petite moyenne ({id_batiment_min_moyenne}):\")\n",
    "    # print(infra_ids_min_moyenne)\n",
    "\n",
    "# Afficher les résultats finaux\n",
    "print(\"Les id_batiment pour l'étape 2 sont : \")\n",
    "print(liste_ordonnee_bat_etape_deux)\n"
   ]
  }
 ],
 "metadata": {
  "kernelspec": {
   "display_name": "Python 3",
   "language": "python",
   "name": "python3"
  },
  "language_info": {
   "codemirror_mode": {
    "name": "ipython",
    "version": 3
   },
   "file_extension": ".py",
   "mimetype": "text/x-python",
   "name": "python",
   "nbconvert_exporter": "python",
   "pygments_lexer": "ipython3",
   "version": "3.12.0"
  }
 },
 "nbformat": 4,
 "nbformat_minor": 2
}
